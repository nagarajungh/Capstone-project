{
    "cells": [
        {
            "cell_type": "markdown",
            "metadata": {
                "collapsed": true
            },
            "source": "# business understing "
        },
        {
            "cell_type": "markdown",
            "metadata": {},
            "source": "As we all observed everyday on social media and most of us pesonally experiencing the effect of accidents. \nAccidents have major role in mortal rate all over the world and make other losses too.\nwe can prevent most of them by predicting them by historical data of local area."
        },
        {
            "cell_type": "markdown",
            "metadata": {},
            "source": "##### collisions Reasons"
        },
        {
            "cell_type": "markdown",
            "metadata": {},
            "source": "\ncan we predict all accidents?\n\nNo, not always\n\nbut possible reasons are \n\n    drunken drive,\n    season of accident,\n    condition of vehicle caused accident,\n    bad weather, \n    heavy traffic, \n    long time driving, \n    driving restless, \n    bad roads, \n    driver not aware of rules"
        },
        {
            "cell_type": "markdown",
            "metadata": {},
            "source": "#### Impact of Accidets"
        },
        {
            "cell_type": "markdown",
            "metadata": {},
            "source": "accident may results bad in many ways depends on accident severity\n\n    human fatality or hospitalization\n    traffic delay, \n    property damage and so on.."
        },
        {
            "cell_type": "markdown",
            "metadata": {},
            "source": "##### Stake holders"
        },
        {
            "cell_type": "markdown",
            "metadata": {},
            "source": "who are stake holders or what is benefit of predicting accidents?\n\n    predicting accidens will be useful to \n    local governments, \n    vehicle manufaccturers, \n    human and things transport will be fast and mostly \n    customers/victims of collisions"
        },
        {
            "cell_type": "markdown",
            "metadata": {},
            "source": "As a data scientist we need to find the mosst possible reasons for accident to prevent future accidents with the help of historical data"
        },
        {
            "cell_type": "markdown",
            "metadata": {},
            "source": ""
        },
        {
            "cell_type": "code",
            "execution_count": null,
            "metadata": {},
            "outputs": [],
            "source": ""
        }
    ],
    "metadata": {
        "kernelspec": {
            "display_name": "Python 3.6",
            "language": "python",
            "name": "python3"
        },
        "language_info": {
            "codemirror_mode": {
                "name": "ipython",
                "version": 3
            },
            "file_extension": ".py",
            "mimetype": "text/x-python",
            "name": "python",
            "nbconvert_exporter": "python",
            "pygments_lexer": "ipython3",
            "version": "3.6.9"
        }
    },
    "nbformat": 4,
    "nbformat_minor": 1
}