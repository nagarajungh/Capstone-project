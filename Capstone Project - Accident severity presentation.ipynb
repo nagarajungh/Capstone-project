{
    "cells": [
        {
            "cell_type": "markdown",
            "metadata": {
                "collapsed": true,
                "slideshow": {
                    "slide_type": "slide"
                }
            },
            "source": "# Capstone Project - Accident severity presentation"
        },
        {
            "cell_type": "markdown",
            "metadata": {
                "slideshow": {
                    "slide_type": "subslide"
                }
            },
            "source": "# predicting Accident severity "
        },
        {
            "cell_type": "markdown",
            "metadata": {
                "slideshow": {
                    "slide_type": "fragment"
                }
            },
            "source": "## predicting severity of an acciden is valueble to \n- People , \n- vehicle manufacturer and \n- government<br>\nso they can plan accordingly to not involve in an aaccident or minimize their accident severity \n"
        },
        {
            "cell_type": "markdown",
            "metadata": {
                "slideshow": {
                    "slide_type": "notes"
                }
            },
            "source": "## Data acquisition and cleaning\n**SOURCE details**<br>\nAbstract All collisions provided by SPD and recorded by Traffic Records.\nSeattle Department of Transportation (Seattle, WA)\n\nSDOT GIS Analyst\n\nContact Email : DOT_IT_GIS@seattle.gov\n"
        },
        {
            "cell_type": "markdown",
            "metadata": {
                "slideshow": {
                    "slide_type": "skip"
                }
            },
            "source": "#### DATA DURATION\n**2014 to tilldate** <br>\nAll collisions provided by SPD and recorded by Traffic Records. This includes all types of collisions. Collisions will display at the intersection or mid-block of a segment. Timeframe: 2004 to Present. SDOT, Seattle, Transportation, Accidents, Bicycle, Car, Collisions, Pedestrian,Traffic, Vehicle. Total 19,46,73 accidents happened during 2014 to till date and taken all into consideration"
        },
        {
            "cell_type": "markdown",
            "metadata": {},
            "source": "##### Cleaned data have all rows/accidents i.e. 194673 records and 17 attributes"
        },
        {
            "attachments": {
                "image-2.png": {
                    "image/png": "[encoded data removed]"
                },
                "image.png": {
                    "image/png": "[encoded data removed]"
                }
            },
            "cell_type": "markdown",
            "metadata": {},
            "source": "actual severity of accidents are on an avarage 2 out of 3 are high severity ![image.png](attachment:image.png) ![image-2.png](attachment:image-2.png)"
        },
        {
            "cell_type": "markdown",
            "metadata": {},
            "source": "## 3. Methodology section <br>\nExploratory Data Analysis<br>\n\nAs part of data analysis most effected reasons for an accident are<br>\n\n- wheather,\n- road condition,\n- location,\n- lack of awareness,\n- speed driving,\n- light condtion and\n- drunked driveing <br> DATA Cleaning and feature selection<br>\n\ndataset have total 194673 rows are records or accidents 17 columns or attributes are columns"
        },
        {
            "cell_type": "markdown",
            "metadata": {},
            "source": "## Conclusion and future directions\n\n- Results\nAs result of data science methodaolgy SVM method performs good predicting accident severity with F1score combination\n\n- Discussion\nAny how to predeicting accidents and accident severity is not always not perform good results, its depends on how rush that route and its inter related to accidents , and findings are weeknds and spped driving is major cause for accidents\n\n- Conclusion\nAs conslusion we can not stop most of accidents but we can reduce human fatality/hospitalization by predicting severity."
        }
    ],
    "metadata": {
        "celltoolbar": "Slideshow",
        "kernelspec": {
            "display_name": "Python 3.6",
            "language": "python",
            "name": "python3"
        },
        "language_info": {
            "codemirror_mode": {
                "name": "ipython",
                "version": 3
            },
            "file_extension": ".py",
            "mimetype": "text/x-python",
            "name": "python",
            "nbconvert_exporter": "python",
            "pygments_lexer": "ipython3",
            "version": "3.6.9"
        }
    },
    "nbformat": 4,
    "nbformat_minor": 1
}