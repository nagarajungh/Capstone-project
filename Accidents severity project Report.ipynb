{
    "cells": [
        {
            "cell_type": "markdown",
            "metadata": {
                "collapsed": true
            },
            "source": "# Capstone Project - Accident severity Report"
        },
        {
            "cell_type": "markdown",
            "metadata": {},
            "source": "## 1. Introduction\n"
        },
        {
            "cell_type": "markdown",
            "metadata": {},
            "source": "As we all observed everyday on social media and most of us pesonally experiencing the effect of accidents. Accidents have major role in mortal rate all over the world and make other losses too. we can prevent most of them by predicting them by historical data of local area\n"
        },
        {
            "cell_type": "markdown",
            "metadata": {},
            "source": "#### Stake holders\nwho are stake holders or what is benefit of predicting accidents?\n\npredicting accidens will be useful to \n-  local governments, \n-  vehicle manufaccturers, \n-  human and things transport will be fast and mostly \n-  customers/victims of collisions"
        },
        {
            "cell_type": "markdown",
            "metadata": {},
            "source": "## 2. DATA"
        },
        {
            "cell_type": "markdown",
            "metadata": {},
            "source": "click here for meta data https://jupyterlab-21.labs.cognitiveclass.ai/hub/user-redirect/lab/tree/Data%20science%20Capstone%20project/Metadata.pdf and <br>\nclick here for dataset https://jupyterlab-21.labs.cognitiveclass.ai/hub/user-redirect/lab/tree/Data%20science%20Capstone%20project/Data-Collisions.csv"
        },
        {
            "cell_type": "markdown",
            "metadata": {},
            "source": "#### SOURCE details\nAbstract All collisions provided by SPD and recorded by Traffic Records.<br>\nSeattle Department of Transportation (Seattle, WA) <br><br>\nSDOT GIS Analyst<br>\n\nContact Email : DOT_IT_GIS@seattle.gov"
        },
        {
            "cell_type": "markdown",
            "metadata": {},
            "source": "#### DATA DURATION<br>\n2014 to tilldate<br>\nAll collisions provided by SPD and recorded by Traffic Records. This includes all types of collisions. Collisions will display at the intersection or mid-block of a segment. Timeframe: 2004 to Present. SDOT, Seattle, Transportation, Accidents, Bicycle, Car, Collisions, Pedestrian,Traffic, Vehicle. Total 19,46,73 accidents happened during 2014 and 2010 till date and taken all into consideration"
        },
        {
            "cell_type": "markdown",
            "metadata": {},
            "source": "### 3. Methodology section\nExploratory Data Analysis<br><br>\nAs part of data analysis most effected reasons for an accident are\n\n- wheather,\n- road condition,\n- location,\n- lack of awareness,\n- IN ATTENTION,\n- speed driving,\n- light condtion and\n- drunked driveing\nDATA Cleaning and feature selection<br><br>\ndataset have total 194673 rows are records or accidents 38 columns or attributes are columns<br><br>\n\nAs part of data cleaning removed 'X', 'Y', 'INTKEY', 'INCKEY','INCDATE', 'COLDETKEY','PERSONCOUNT','VEHCOUNT','JUNCTIONTYPE','SDOT_COLCODE','ST_COLCODE','REPORTNO','STATUS','SDOTCOLNUM','EXCEPTRSNCODE', 'EXCEPTRSNDESC','SEVERITYCODE.1', 'SEVERITYDESC','PEDCOUNT', 'PEDCYLCOUNT','LOCATION', 'PEDROWNOTGRNT', 'ST_COLDESC','SDOT_COLDESC'<br><br>\n\nTo get efficient data results Year, month weekday and time have been separated from INCDTTM i.e. incident time column<br>\n\nAfter data data cleaning there are 23 featuring selected"
        },
        {
            "cell_type": "markdown",
            "metadata": {},
            "source": "## 4. Predictive Modeling\n4.1 Regression models 4.1.1 Applying standard algorithms and their problems\n\nmultiple linear regression method as there are several independent values to predict accident severity(dependent value) As part of data analysis Logistic Regression (LR), MLR , SVM used to predict the accident severity\n\nbelow is an example to find statistical analysis done for object type attribute too"
        },
        {
            "cell_type": "markdown",
            "metadata": {},
            "source": "## 5. Results\nAs result of data science methodaolgy SVM method performs good predicting accident severity with F1score combination"
        },
        {
            "cell_type": "markdown",
            "metadata": {},
            "source": "## 6. Discussion\nAny how to predeicting accidents and accident severity is not always not perform good results, its depends on how rush that route and its inter related to accidents , and findings are weeknds and spped driving is major cause for accidents"
        },
        {
            "cell_type": "markdown",
            "metadata": {},
            "source": "## 7. Conclusion\nAs conslusion we can not stop most of accidents but we can reduce human fatality/hospitalization by predicting severity."
        }
    ],
    "metadata": {
        "kernelspec": {
            "display_name": "Python 3.6",
            "language": "python",
            "name": "python3"
        },
        "language_info": {
            "codemirror_mode": {
                "name": "ipython",
                "version": 3
            },
            "file_extension": ".py",
            "mimetype": "text/x-python",
            "name": "python",
            "nbconvert_exporter": "python",
            "pygments_lexer": "ipython3",
            "version": "3.6.9"
        }
    },
    "nbformat": 4,
    "nbformat_minor": 1
}